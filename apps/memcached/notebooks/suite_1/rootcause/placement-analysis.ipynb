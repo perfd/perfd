{
 "cells": [
  {
   "cell_type": "code",
   "execution_count": 19,
   "metadata": {},
   "outputs": [],
   "source": [
    "import operator as op\n",
    "from math import factorial\n",
    "from functools import reduce\n",
    "\n",
    "def ncr(n, r):\n",
    "    r = min(r, n-r)\n",
    "    numer = reduce(op.mul, range(n, n-r, -1), 1)\n",
    "    denom = reduce(op.mul, range(1, r+1), 1)\n",
    "    return numer / denom\n",
    "\n",
    "def npr(n, r):\n",
    "    return factorial(n)/factorial(n-r)\n",
    "\n",
    "from itertools import permutations"
   ]
  },
  {
   "cell_type": "code",
   "execution_count": 20,
   "metadata": {},
   "outputs": [
    {
     "name": "stdout",
     "output_type": "stream",
     "text": [
      "0.3684210526315789 0.631578947368421\n"
     ]
    }
   ],
   "source": [
    "# # k = 1\n",
    "# m1 = (ncr(4, 1) * ncr(16, 1) + ncr(4, 2))/ncr(20, 2)\n",
    "# m2 = ncr(16, 2)/ncr(20, 2)\n",
    "# print(m1, m2)\n",
    "\n",
    "# k = 1\n",
    "m1 = (4*19 + 16*4)/(20*19)\n",
    "m2 = (16*15)/(20*19)\n",
    "print(m1, m2)"
   ]
  },
  {
   "cell_type": "code",
   "execution_count": 29,
   "metadata": {},
   "outputs": [
    {
     "name": "stdout",
     "output_type": "stream",
     "text": [
      "0.22807017543859648 0.2807017543859649 0.49122807017543857\n"
     ]
    }
   ],
   "source": [
    "# k = 2\n",
    "m1 = (4*npr(19,2) + 16*npr(4,2))/npr(20,3)\n",
    "m2 = (16*npr(15,1)*npr(4,1) + 16*npr(4,1)*npr(15,1))/npr(20,3)\n",
    "m3 = (16*npr(15,2))/npr(20,3)\n",
    "print(m1, m2, m3)"
   ]
  },
  {
   "cell_type": "code",
   "execution_count": 31,
   "metadata": {},
   "outputs": [
    {
     "name": "stdout",
     "output_type": "stream",
     "text": [
      "0.20330237358101136 0.02476780185758514 0.11558307533539731 0.37564499484004127\n"
     ]
    }
   ],
   "source": [
    "# k = 3\n",
    "m1 = (4*npr(19,3) + 16*npr(4,3))/npr(20,4)\n",
    "m2 = (16*npr(15,1)*npr(4,2))/npr(20,4)\n",
    "m3 = (16*npr(15,2)*npr(4,1))/npr(20,4)\n",
    "m4 = (16*npr(15,3))/npr(20,4)\n",
    "print(m1, m2, m3, m4)"
   ]
  },
  {
   "cell_type": "code",
   "execution_count": 22,
   "metadata": {},
   "outputs": [
    {
     "name": "stdout",
     "output_type": "stream",
     "text": [
      "0.2 0.05779153766769866 0.6934984520123839 4.1609907120743035 8.321981424148607\n"
     ]
    }
   ],
   "source": [
    "# k = 8, pick 8 servers\n",
    "m1 = (4*npr(19, 8))/npr(20, 8)\n",
    "m2 = 16*npr(4,1)*npr(15,11)/npr(20, 8)\n",
    "m3 = 16*npr(4,2)*npr(15,12)/npr(20, 8)\n",
    "m4 = 16*npr(4,3)*npr(15,13)/npr(20, 8)\n",
    "m5 = 16*npr(4,4)*npr(15,14)/npr(20, 8)\n",
    "print(m1, m2, m3, m4, m5)"
   ]
  },
  {
   "cell_type": "code",
   "execution_count": 119,
   "metadata": {},
   "outputs": [],
   "source": [
    "def modes(k, m, n, lh, ll):\n",
    "#     assert k < m and k < n\n",
    "    true_k = k\n",
    "    if k > n and k > m: # when k > n, the number of modes and probability stay the same\n",
    "        k = m + n - k\n",
    "    elif n <= k <= m or m <= k <= n:\n",
    "        k = min(m, n)\n",
    "    num_mode = k + 1\n",
    "    modes, avg_lats = [-1] * num_mode, [-1] * num_mode\n",
    "    \n",
    "    for i in range(num_mode):\n",
    "        if i == 0:\n",
    "            modes[i] = (npr(n, 1)*npr(m+n-1, k)+npr(m, 1)*npr(n, k))/npr(m+n, k+1)\n",
    "            avg_lats[i] = (k * lh)/k\n",
    "        elif i == num_mode - 1:\n",
    "            modes[i] = npr(m, 1)*npr(m-1, k)/npr(m+n, k+1)\n",
    "            avg_lats[i] = (k * ll)/k\n",
    "        else:\n",
    "            modes[i] = npr(m, 1)*(npr(m-1, k-i)*npr(n, i)*ncr(k, i))/npr(m+n, k+1)\n",
    "            avg_lats[i] = ((k - i) * lh + i * ll)/k\n",
    "        \n",
    "    assert abs(sum(modes) - 1) <= 0.00001\n",
    "    \n",
    "    return {m: l for m, l in zip(avg_lats, modes)}"
   ]
  },
  {
   "cell_type": "code",
   "execution_count": 121,
   "metadata": {},
   "outputs": [
    {
     "name": "stdout",
     "output_type": "stream",
     "text": [
      "{1.0: 0.36923076923076925, 10.0: 0.6307692307692307}\n",
      "\n",
      "{1.0: 0.2153846153846154, 5.5: 0.3076923076923077, 10.0: 0.47692307692307695}\n",
      "\n",
      "{1.0: 0.12173913043478261,\n",
      " 4.0: 0.1806020066889632,\n",
      " 7.0: 0.2809364548494983,\n",
      " 10.0: 0.41672240802675586}\n",
      "\n",
      "{1.0: 0.06640316205533597,\n",
      " 3.25: 0.08756460930373974,\n",
      " 5.5: 0.2298570994223168,\n",
      " 7.75: 0.22134387351778656,\n",
      " 10.0: 0.3948312557008209}\n",
      "\n",
      "{1.0: 0.034782608695652174,\n",
      " 2.8: 0.036485253876558224,\n",
      " 4.6: 0.1459410155062329,\n",
      " 6.4: 0.23715415019762845,\n",
      " 8.2: 0.15810276679841898,\n",
      " 10.0: 0.3875342049255093}\n",
      "\n",
      "{1.0: 0.017391304347826087,\n",
      " 2.5: 0.013134691395560961,\n",
      " 4.0: 0.07661903314077227,\n",
      " 5.5: 0.18972332015810275,\n",
      " 7.0: 0.2134387351778656,\n",
      " 8.5: 0.10434782608695652,\n",
      " 10.0: 0.38534508969291575}\n",
      "\n",
      "{1.0: 0.008237986270022883,\n",
      " 2.2857142857142856: 0.004032580691619593,\n",
      " 3.5714285714285716: 0.03387367780960458,\n",
      " 4.857142857142857: 0.122321614312461,\n",
      " 6.142857142857143: 0.20969419596421884,\n",
      " 7.428571428571429: 0.17299771167048056,\n",
      " 8.714285714285714: 0.06407322654462243,\n",
      " 10.0: 0.3847690067369701}\n",
      "\n",
      "{1.0: 0.0036613272311212816,\n",
      " 2.125: 0.0010241474772367221,\n",
      " 3.25: 0.012545806596149846,\n",
      " 4.375: 0.0652381942999792,\n",
      " 5.5: 0.163095485749948,\n",
      " 6.625: 0.20503432494279175,\n",
      " 7.75: 0.12814645308924486,\n",
      " 8.875: 0.036613272311212815,\n",
      " 10.0: 0.3846409883023155}\n",
      "\n",
      "{1.0: 0.0015076053304617042,\n",
      " 2.0: 0.00020332339621611395,\n",
      " 3.0: 0.0037953700627007935,\n",
      " 4.0: 0.028781556308814352,\n",
      " 5.0: 0.10361360271173167,\n",
      " 6.0: 0.18995827163817472,\n",
      " 7.0: 0.1809126396554045,\n",
      " 8.0: 0.08722573697671288,\n",
      " 9.0: 0.019383497105936197,\n",
      " 10.0: 0.3846183968138471}\n",
      "\n",
      "{1.0: 0.000565351998923139,\n",
      " 1.9: 2.823936058557138e-05,\n",
      " 2.8: 0.0008895398584454985,\n",
      " 3.7: 0.010279127253147982,\n",
      " 4.6: 0.05396541807902691,\n",
      " 5.5: 0.14246870372863105,\n",
      " 6.4: 0.19787319962309866,\n",
      " 7.3: 0.14537622829452146,\n",
      " 8.2: 0.054516085610445554,\n",
      " 9.1: 0.00942253331538565,\n",
      " 10.0: 0.3846155728777885}\n",
      "\n"
     ]
    }
   ],
   "source": [
    "import pprint as pp\n",
    "for i in range(10):\n",
    "    pp.pprint(modes(i + 1, 16, 10, 10, 1))\n",
    "    print()\n",
    "# print(modes(5, 16, 4, 10, 1))"
   ]
  },
  {
   "cell_type": "code",
   "execution_count": null,
   "metadata": {},
   "outputs": [],
   "source": []
  },
  {
   "cell_type": "code",
   "execution_count": null,
   "metadata": {},
   "outputs": [],
   "source": []
  }
 ],
 "metadata": {
  "kernelspec": {
   "display_name": "Python 3",
   "language": "python",
   "name": "python3"
  },
  "language_info": {
   "codemirror_mode": {
    "name": "ipython",
    "version": 3
   },
   "file_extension": ".py",
   "mimetype": "text/x-python",
   "name": "python",
   "nbconvert_exporter": "python",
   "pygments_lexer": "ipython3",
   "version": "3.7.4"
  }
 },
 "nbformat": 4,
 "nbformat_minor": 2
}
