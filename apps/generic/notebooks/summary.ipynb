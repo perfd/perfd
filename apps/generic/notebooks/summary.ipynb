{
 "cells": [
  {
   "cell_type": "code",
   "execution_count": 1,
   "metadata": {},
   "outputs": [],
   "source": [
    "import preamble\n",
    "\n",
    "import apps.memcached.predict as dataset\n",
    "import examples.dataset as dataset_tool\n",
    "\n",
    "import pprint as pp\n",
    "import pandas as pd"
   ]
  },
  {
   "cell_type": "code",
   "execution_count": 7,
   "metadata": {},
   "outputs": [
    {
     "name": "stdout",
     "output_type": "stream",
     "text": [
      "adding new figure: None\n",
      "\n",
      "Table 1\n",
      "rRMSE over raw JCTs\n",
      "+-----------+-----+-----+-----+-----+-------+-----+------+--------+-------+\n",
      "|   False   |  lr | knn |  rf | svm | svm_k |  nn | best | oracle | naive |\n",
      "+-----------+-----+-----+-----+-----+-------+-----+------+--------+-------+\n",
      "| memcached | 6.6 | 6.7 | 8.0 | 8.1 |  7.5  | 6.0 | 6.0  |  4.7   |  10.9 |\n",
      "+-----------+-----+-----+-----+-----+-------+-----+------+--------+-------+\n",
      "*: best refers to the best score among the models\n",
      "\n",
      "Oracle score distribution on the complete dataset\n",
      "+--------------+-----+-----+-----+-----+-----+\n",
      "| App/RMSRE(%) | 1.0 | 2.0 | 3.0 | 4.0 | 5.0 |\n",
      "+--------------+-----+-----+-----+-----+-----+\n",
      "|  memcached   | 3.9 | 4.6 | 6.9 | 3.2 | 4.9 |\n",
      "+--------------+-----+-----+-----+-----+-----+\n"
     ]
    }
   ],
   "source": [
    "# TODO: load from trials.yaml\n",
    "\n",
    "df = dataset.load(bucket=\"perfd\", \n",
    "                  app_name = \"memcached\",\n",
    "                  trial = \"numServer_linear_1_5_client_3_wait\")\n",
    "\n",
    "ctx = dataset_tool.default_ctx()\n",
    "ctx[\"exp_name\"] = \"memcached\"\n",
    "ctx[\"app_name\"] = \"memcached\"\n",
    "ctx[\"feature\"] = ctx[\"feature_mode\"] = [\"numServerInstance\"]\n",
    "ctx[\"target_feature\"] = \"avg_lat_read\"\n",
    "ctx[\"testset_ratio\"] = 0.5\n",
    "ctx[\"reload\"] = True\n",
    "ctx[\"retune\"] = False\n",
    "ctx[\"quiet\"] = True\n",
    "ctx[\"plot\"] = False\n",
    "\n",
    "results = dataset_tool.best_case_eval(ctx, {\"memcached\": df})"
   ]
  },
  {
   "cell_type": "code",
   "execution_count": null,
   "metadata": {},
   "outputs": [],
   "source": []
  }
 ],
 "metadata": {
  "kernelspec": {
   "display_name": "Python 3",
   "language": "python",
   "name": "python3"
  },
  "language_info": {
   "codemirror_mode": {
    "name": "ipython",
    "version": 3
   },
   "file_extension": ".py",
   "mimetype": "text/x-python",
   "name": "python",
   "nbconvert_exporter": "python",
   "pygments_lexer": "ipython3",
   "version": "3.7.4"
  }
 },
 "nbformat": 4,
 "nbformat_minor": 2
}
